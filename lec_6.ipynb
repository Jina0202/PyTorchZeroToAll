{
  "nbformat": 4,
  "nbformat_minor": 0,
  "metadata": {
    "colab": {
      "name": "lec_6.ipynb",
      "provenance": [],
      "authorship_tag": "ABX9TyO1MYoo5nfu5SU8VerVMcDC",
      "include_colab_link": true
    },
    "kernelspec": {
      "name": "python3",
      "display_name": "Python 3"
    },
    "language_info": {
      "name": "python"
    }
  },
  "cells": [
    {
      "cell_type": "markdown",
      "metadata": {
        "id": "view-in-github",
        "colab_type": "text"
      },
      "source": [
        "<a href=\"https://colab.research.google.com/github/Jina0202/PyTorchZeroToAll/blob/main/lec_6.ipynb\" target=\"_parent\"><img src=\"https://colab.research.google.com/assets/colab-badge.svg\" alt=\"Open In Colab\"/></a>"
      ]
    },
    {
      "cell_type": "code",
      "metadata": {
        "id": "uze4glM01FNg"
      },
      "source": [
        ""
      ],
      "execution_count": null,
      "outputs": []
    },
    {
      "cell_type": "markdown",
      "metadata": {
        "id": "SAFWF7mH1XBm"
      },
      "source": [
        "#lecture 7: Wide & Deep\n",
        "##1) Go Wide! ㅣ\n",
        "-one single input makes the output inaccurate!\n",
        "\n",
        "--> add more input (matrix)\n",
        "\n",
        "###How to implement (Matrix Multiplication)\n",
        "\n",
        "-don't need to change the module\n",
        "\n",
        "-> Ax=b\n",
        "\n",
        "    Xw=y^\n",
        "\n",
        "    (R^Nx2-->R^Nx1)\n",
        "\n",
        "##2)Go Deep! ㅡ\n",
        "\n",
        "-make multiple layers\n",
        "\n",
        "##How to implement\n",
        "\n",
        "-create multiple linear components and connect them (by sigmoid)\n",
        "\n",
        "*be careful for the input size, output size!\n",
        "\n",
        "*our lecture: sigmoid activation functions)simple\n",
        " \n",
        " but when it's a very deep neural network, sigmoid can cause vanishing gradient problem\n",
        "\n",
        " sigmoid squash value to small number --> can lose gradients\n",
        "\n",
        " many solution exists but let's use other types of function!\n",
        "\n",
        " -->Rectifier, ReLU -works very well for this situation\n",
        "\n",
        " (web page is mentioned in the lecture)"
      ]
    },
    {
      "cell_type": "code",
      "metadata": {
        "colab": {
          "base_uri": "https://localhost:8080/"
        },
        "id": "1RyApW5j3Wqg",
        "outputId": "9b90f48d-d6a6-452c-f1a5-62f91c063eec"
      },
      "source": [
        "from torch.autograd import Variable\n",
        "import numpy as np\n",
        "\n",
        "\n",
        "xy = np.loadtxt('/content/diabetes.csv', delimiter=',', dtype=np.float32)\n",
        "x_data = Variable(torch.from_numpy(xy[:, 0:-1]))\n",
        "y_data = Variable(torch.from_numpy(xy[:, [-1]]))\n",
        "\n",
        "\n",
        "print(x_data.data.shape)#torch.Size([759,8])\n",
        "print(y_data.data.shape)#torch.Size([759,1])\n",
        "\n",
        "class Model(torch.nn.Module): \n",
        "  #아무렇게나 이름 지음->Model, Model은 torch.nn.Module의 subclass\n",
        "  #two function: __init__(), forward()\n",
        "  def __init__(self):\n",
        "    \"\"\"\n",
        "    In the constructor wew instantiate tow nn.Linear module\n",
        "    \"\"\"\n",
        "    super(Model,self).__init__() #going to call super in it, do some initializaion task or creat element,some component\n",
        "    self.l1=torch.nn.Linear(8,6)\n",
        "    self.l2=torch.nn.Linear(6,4)\n",
        "    self.l3=torch.nn.Linear(4,1)\n",
        "\n",
        "    self.sigmoid=torch.nn.Sigmoid()\n",
        "  \n",
        "  def forward(self,x): #not going to use our own weight, but use the block we initialized in it\n",
        "    out1=self.sigmoid(self.l1(x))\n",
        "    out2=self.sigmoid(self.l2(out1))\n",
        "    y_pred=self.sigmoid(self.l3(out2))\n",
        "    return y_pred\n",
        "\n",
        "model=Model()\n",
        "###step 2\n",
        "#Construct our loss funtion and an Optimizer. The call to model.parameters\n",
        "#in the SGD constructor will contain the learnable parameters of the two\n",
        "#nn.Linear modules whoch are members of the model.\n",
        "criterion=torch.nn.BCELoss(reduction='mean') #라이브러리\n",
        "optimizer=torch.optim.SGD(model.parameters(),lr=0.01) #알고리즘 compute data same times-앞 영상방식 zip들어간 방식보다 효율적 \n",
        "\n",
        "###step 3\n",
        "#Training loop\n",
        "for epoch in range(100):\n",
        "  #forward poss: compute predicted y by passing x to the model\n",
        "  y_pred = model(x_data) #s_data: x_data=matrix\n",
        "\n",
        "  #Compute and print loss\n",
        "  loss=criterion(y_pred, y_data) #MSE계산\n",
        "  print(epoch, loss.item()) \n",
        "\n",
        "  #Zero gradients, perform a backward pass, and update the weights\n",
        "  optimizer.zero_grad() #initialize all the gradients\n",
        "  loss.backward()\n",
        "  optimizer.step() #update variable <</////////how??\n",
        "\n"
      ],
      "execution_count": 76,
      "outputs": [
        {
          "output_type": "stream",
          "text": [
            "torch.Size([759, 8])\n",
            "torch.Size([759, 1])\n",
            "0 0.6836566925048828\n",
            "1 0.6832658052444458\n",
            "2 0.6828790307044983\n",
            "3 0.682496190071106\n",
            "4 0.6821174025535583\n",
            "5 0.6817426085472107\n",
            "6 0.6813716888427734\n",
            "7 0.6810047030448914\n",
            "8 0.6806414723396301\n",
            "9 0.6802819967269897\n",
            "10 0.679926335811615\n",
            "11 0.6795743703842163\n",
            "12 0.6792261600494385\n",
            "13 0.6788815259933472\n",
            "14 0.6785404682159424\n",
            "15 0.6782029271125793\n",
            "16 0.6778689622879028\n",
            "17 0.6775384545326233\n",
            "18 0.6772114634513855\n",
            "19 0.6768878698348999\n",
            "20 0.6765674948692322\n",
            "21 0.6762506365776062\n",
            "22 0.6759369969367981\n",
            "23 0.6756267547607422\n",
            "24 0.6753196716308594\n",
            "25 0.6750158071517944\n",
            "26 0.6747150421142578\n",
            "27 0.6744174361228943\n",
            "28 0.6741229295730591\n",
            "29 0.673831582069397\n",
            "30 0.6735432147979736\n",
            "31 0.6732578277587891\n",
            "32 0.6729754209518433\n",
            "33 0.672696053981781\n",
            "34 0.6724194884300232\n",
            "35 0.6721457839012146\n",
            "36 0.6718750596046448\n",
            "37 0.6716070771217346\n",
            "38 0.6713419556617737\n",
            "39 0.6710794568061829\n",
            "40 0.6708198189735413\n",
            "41 0.6705628037452698\n",
            "42 0.670308530330658\n",
            "43 0.6700568795204163\n",
            "44 0.6698078513145447\n",
            "45 0.6695613861083984\n",
            "46 0.6693175435066223\n",
            "47 0.6690762042999268\n",
            "48 0.6688373684883118\n",
            "49 0.6686010360717773\n",
            "50 0.6683671474456787\n",
            "51 0.6681357026100159\n",
            "52 0.6679067015647888\n",
            "53 0.6676800847053528\n",
            "54 0.6674556732177734\n",
            "55 0.6672337651252747\n",
            "56 0.6670141816139221\n",
            "57 0.6667967438697815\n",
            "58 0.6665816307067871\n",
            "59 0.6663687825202942\n",
            "60 0.6661580801010132\n",
            "61 0.6659497022628784\n",
            "62 0.665743350982666\n",
            "63 0.6655392646789551\n",
            "64 0.6653372049331665\n",
            "65 0.6651372313499451\n",
            "66 0.6649394035339355\n",
            "67 0.6647436022758484\n",
            "68 0.6645498275756836\n",
            "69 0.6643581390380859\n",
            "70 0.6641682982444763\n",
            "71 0.6639805436134338\n",
            "72 0.6637946963310242\n",
            "73 0.6636108160018921\n",
            "74 0.6634287238121033\n",
            "75 0.663248598575592\n",
            "76 0.6630704402923584\n",
            "77 0.6628940105438232\n",
            "78 0.6627194881439209\n",
            "79 0.662546694278717\n",
            "80 0.6623757481575012\n",
            "81 0.6622065305709839\n",
            "82 0.6620391607284546\n",
            "83 0.661873459815979\n",
            "84 0.6617093682289124\n",
            "85 0.6615471243858337\n",
            "86 0.6613865494728088\n",
            "87 0.6612275838851929\n",
            "88 0.6610702872276306\n",
            "89 0.6609146595001221\n",
            "90 0.6607605814933777\n",
            "91 0.6606081128120422\n",
            "92 0.6604573130607605\n",
            "93 0.6603078842163086\n",
            "94 0.6601601243019104\n",
            "95 0.6600139141082764\n",
            "96 0.6598691940307617\n",
            "97 0.6597259640693665\n",
            "98 0.6595842242240906\n",
            "99 0.6594439744949341\n"
          ],
          "name": "stdout"
        }
      ]
    },
    {
      "cell_type": "code",
      "metadata": {
        "colab": {
          "base_uri": "https://localhost:8080/"
        },
        "id": "AM5rQ2BHyyrw",
        "outputId": "0b1996c9-5514-4c97-bd57-7b6a8d1f6fe8"
      },
      "source": [
        "!gdown https://drive.google.com/uc?id={1Du6Rpvfll6RyYCA9Ptrve36cu4qGFADR}"
      ],
      "execution_count": 71,
      "outputs": [
        {
          "output_type": "stream",
          "text": [
            "Permission denied: https://drive.google.com/uc?id={1Du6Rpvfll6RyYCA9Ptrve36cu4qGFADR}\n",
            "Maybe you need to change permission over 'Anyone with the link'?\n"
          ],
          "name": "stdout"
        }
      ]
    },
    {
      "cell_type": "code",
      "metadata": {
        "colab": {
          "base_uri": "https://localhost:8080/"
        },
        "id": "MFckB-my3gXc",
        "outputId": "77df3f3c-7db1-4d3a-94c6-70cd6ea01378"
      },
      "source": [
        "!pip install gdown"
      ],
      "execution_count": 72,
      "outputs": [
        {
          "output_type": "stream",
          "text": [
            "Requirement already satisfied: gdown in /usr/local/lib/python3.7/dist-packages (3.6.4)\n",
            "Requirement already satisfied: requests in /usr/local/lib/python3.7/dist-packages (from gdown) (2.23.0)\n",
            "Requirement already satisfied: tqdm in /usr/local/lib/python3.7/dist-packages (from gdown) (4.41.1)\n",
            "Requirement already satisfied: six in /usr/local/lib/python3.7/dist-packages (from gdown) (1.15.0)\n",
            "Requirement already satisfied: urllib3!=1.25.0,!=1.25.1,<1.26,>=1.21.1 in /usr/local/lib/python3.7/dist-packages (from requests->gdown) (1.24.3)\n",
            "Requirement already satisfied: chardet<4,>=3.0.2 in /usr/local/lib/python3.7/dist-packages (from requests->gdown) (3.0.4)\n",
            "Requirement already satisfied: idna<3,>=2.5 in /usr/local/lib/python3.7/dist-packages (from requests->gdown) (2.10)\n",
            "Requirement already satisfied: certifi>=2017.4.17 in /usr/local/lib/python3.7/dist-packages (from requests->gdown) (2020.12.5)\n"
          ],
          "name": "stdout"
        }
      ]
    },
    {
      "cell_type": "code",
      "metadata": {
        "colab": {
          "base_uri": "https://localhost:8080/"
        },
        "id": "nidmYXRz3i9z",
        "outputId": "2af1619c-709c-442d-a396-4fa61072e959"
      },
      "source": [
        "!gdown https://drive.google.com/uc?id=1Du6Rpvfll6RyYCA9Ptrve36cu4qGFADR"
      ],
      "execution_count": 73,
      "outputs": [
        {
          "output_type": "stream",
          "text": [
            "Downloading...\n",
            "From: https://drive.google.com/uc?id=1Du6Rpvfll6RyYCA9Ptrve36cu4qGFADR\n",
            "To: /content/diabetes.csv\n",
            "\r  0% 0.00/53.4k [00:00<?, ?B/s]\r100% 53.4k/53.4k [00:00<00:00, 19.1MB/s]\n"
          ],
          "name": "stdout"
        }
      ]
    },
    {
      "cell_type": "markdown",
      "metadata": {
        "id": "eJpKLMe22vKo"
      },
      "source": [
        ""
      ]
    },
    {
      "cell_type": "code",
      "metadata": {
        "id": "O8lIENmu38pD"
      },
      "source": [
        ""
      ],
      "execution_count": null,
      "outputs": []
    }
  ]
}