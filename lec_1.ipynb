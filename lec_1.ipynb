{
  "nbformat": 4,
  "nbformat_minor": 0,
  "metadata": {
    "colab": {
      "name": "lec_1.ipynb",
      "provenance": [],
      "authorship_tag": "ABX9TyNjLNCLzqDBiZ9Rpc2Pf1ZJ",
      "include_colab_link": true
    },
    "kernelspec": {
      "name": "python3",
      "display_name": "Python 3"
    },
    "language_info": {
      "name": "python"
    }
  },
  "cells": [
    {
      "cell_type": "markdown",
      "metadata": {
        "id": "view-in-github",
        "colab_type": "text"
      },
      "source": [
        "<a href=\"https://colab.research.google.com/github/Jina0202/PyTorchZeroToAll/blob/main/lec_1.ipynb\" target=\"_parent\"><img src=\"https://colab.research.google.com/assets/colab-badge.svg\" alt=\"Open In Colab\"/></a>"
      ]
    },
    {
      "cell_type": "code",
      "metadata": {
        "id": "6JEdEFuVKq_P",
        "colab": {
          "base_uri": "https://localhost:8080/",
          "height": 1000
        },
        "outputId": "54255b72-17ad-4a15-84aa-2bca7d1d9293"
      },
      "source": [
        "import numpy as np\n",
        "import matplotlib.pyplot as plt\n",
        "x_data=[1.0, 2.0, 3.0]\n",
        "y_data=[2.0, 4.0, 6.0]\n",
        "\n",
        "w=1.0 # a random guess: random value, 1.0\n",
        "\n",
        "#our moel for the forwar pass//x를 넣어주면 y를 return 하게 하는 함수\n",
        "def forward(x):\n",
        "  return x*w\n",
        "\n",
        "#Loss function\n",
        "def loss(x,y):\n",
        "  y_pred=forward(x)\n",
        "  return (y_pred-y)*(y_pred-y)\n",
        "w_list=[]\n",
        "mse_list=[]\n",
        "for w in np.arange(0.0, 4.1, 0.1):\n",
        "  print(\"w=\",w)\n",
        "  l_sum=0\n",
        "  for x, y in zip(x_data, y_data): #zip는 하나씩 묶어주는 기능->x_data,y_data 하나씩 순차적으로 들어감.\n",
        "    l_sum+=loss(x,y)\n",
        "  MSE=l_sum/3\n",
        "  #l_sum=MSE!\n",
        "  print(f'w={w}, loss:{MSE}')\n",
        "\n",
        "  print(\"MSE=\",MSE)\n",
        "  w_list.append(w)\n",
        "  mse_list.append(l_sum/3)\n",
        "\n",
        "plt.plot(w_list,mse_list)\n",
        "plt.ylabel('Loss')\n",
        "plt.xlabel('w')\n",
        "plt.title('Loss-w graph')\n",
        "plt.show()"
      ],
      "execution_count": null,
      "outputs": [
        {
          "output_type": "stream",
          "text": [
            "w= 0.0\n",
            "w=0.0, loss:18.666666666666668\n",
            "MSE= 18.666666666666668\n",
            "w= 0.1\n",
            "w=0.1, loss:16.846666666666668\n",
            "MSE= 16.846666666666668\n",
            "w= 0.2\n",
            "w=0.2, loss:15.120000000000003\n",
            "MSE= 15.120000000000003\n",
            "w= 0.30000000000000004\n",
            "w=0.30000000000000004, loss:13.486666666666665\n",
            "MSE= 13.486666666666665\n",
            "w= 0.4\n",
            "w=0.4, loss:11.946666666666667\n",
            "MSE= 11.946666666666667\n",
            "w= 0.5\n",
            "w=0.5, loss:10.5\n",
            "MSE= 10.5\n",
            "w= 0.6000000000000001\n",
            "w=0.6000000000000001, loss:9.146666666666663\n",
            "MSE= 9.146666666666663\n",
            "w= 0.7000000000000001\n",
            "w=0.7000000000000001, loss:7.886666666666666\n",
            "MSE= 7.886666666666666\n",
            "w= 0.8\n",
            "w=0.8, loss:6.719999999999999\n",
            "MSE= 6.719999999999999\n",
            "w= 0.9\n",
            "w=0.9, loss:5.646666666666666\n",
            "MSE= 5.646666666666666\n",
            "w= 1.0\n",
            "w=1.0, loss:4.666666666666667\n",
            "MSE= 4.666666666666667\n",
            "w= 1.1\n",
            "w=1.1, loss:3.779999999999999\n",
            "MSE= 3.779999999999999\n",
            "w= 1.2000000000000002\n",
            "w=1.2000000000000002, loss:2.986666666666665\n",
            "MSE= 2.986666666666665\n",
            "w= 1.3\n",
            "w=1.3, loss:2.2866666666666657\n",
            "MSE= 2.2866666666666657\n",
            "w= 1.4000000000000001\n",
            "w=1.4000000000000001, loss:1.6799999999999995\n",
            "MSE= 1.6799999999999995\n",
            "w= 1.5\n",
            "w=1.5, loss:1.1666666666666667\n",
            "MSE= 1.1666666666666667\n",
            "w= 1.6\n",
            "w=1.6, loss:0.746666666666666\n",
            "MSE= 0.746666666666666\n",
            "w= 1.7000000000000002\n",
            "w=1.7000000000000002, loss:0.4199999999999995\n",
            "MSE= 0.4199999999999995\n",
            "w= 1.8\n",
            "w=1.8, loss:0.1866666666666665\n",
            "MSE= 0.1866666666666665\n",
            "w= 1.9000000000000001\n",
            "w=1.9000000000000001, loss:0.046666666666666586\n",
            "MSE= 0.046666666666666586\n",
            "w= 2.0\n",
            "w=2.0, loss:0.0\n",
            "MSE= 0.0\n",
            "w= 2.1\n",
            "w=2.1, loss:0.046666666666666835\n",
            "MSE= 0.046666666666666835\n",
            "w= 2.2\n",
            "w=2.2, loss:0.18666666666666698\n",
            "MSE= 0.18666666666666698\n",
            "w= 2.3000000000000003\n",
            "w=2.3000000000000003, loss:0.42000000000000054\n",
            "MSE= 0.42000000000000054\n",
            "w= 2.4000000000000004\n",
            "w=2.4000000000000004, loss:0.7466666666666679\n",
            "MSE= 0.7466666666666679\n",
            "w= 2.5\n",
            "w=2.5, loss:1.1666666666666667\n",
            "MSE= 1.1666666666666667\n",
            "w= 2.6\n",
            "w=2.6, loss:1.6800000000000008\n",
            "MSE= 1.6800000000000008\n",
            "w= 2.7\n",
            "w=2.7, loss:2.2866666666666693\n",
            "MSE= 2.2866666666666693\n",
            "w= 2.8000000000000003\n",
            "w=2.8000000000000003, loss:2.986666666666668\n",
            "MSE= 2.986666666666668\n",
            "w= 2.9000000000000004\n",
            "w=2.9000000000000004, loss:3.780000000000003\n",
            "MSE= 3.780000000000003\n",
            "w= 3.0\n",
            "w=3.0, loss:4.666666666666667\n",
            "MSE= 4.666666666666667\n",
            "w= 3.1\n",
            "w=3.1, loss:5.646666666666668\n",
            "MSE= 5.646666666666668\n",
            "w= 3.2\n",
            "w=3.2, loss:6.720000000000003\n",
            "MSE= 6.720000000000003\n",
            "w= 3.3000000000000003\n",
            "w=3.3000000000000003, loss:7.886666666666668\n",
            "MSE= 7.886666666666668\n",
            "w= 3.4000000000000004\n",
            "w=3.4000000000000004, loss:9.14666666666667\n",
            "MSE= 9.14666666666667\n",
            "w= 3.5\n",
            "w=3.5, loss:10.5\n",
            "MSE= 10.5\n",
            "w= 3.6\n",
            "w=3.6, loss:11.94666666666667\n",
            "MSE= 11.94666666666667\n",
            "w= 3.7\n",
            "w=3.7, loss:13.486666666666673\n",
            "MSE= 13.486666666666673\n",
            "w= 3.8000000000000003\n",
            "w=3.8000000000000003, loss:15.120000000000005\n",
            "MSE= 15.120000000000005\n",
            "w= 3.9000000000000004\n",
            "w=3.9000000000000004, loss:16.84666666666667\n",
            "MSE= 16.84666666666667\n",
            "w= 4.0\n",
            "w=4.0, loss:18.666666666666668\n",
            "MSE= 18.666666666666668\n"
          ],
          "name": "stdout"
        },
        {
          "output_type": "display_data",
          "data": {
            "image/png": "[encoded data removed]",
            "text/plain": [
              "<Figure size 432x288 with 1 Axes>"
            ]
          },
          "metadata": {
            "tags": [],
            "needs_background": "light"
          }
        }
      ]
    },
    {
      "cell_type": "code",
      "metadata": {
        "id": "aMOBaJaIWvX9"
      },
      "source": [
        ""
      ],
      "execution_count": null,
      "outputs": []
    }
  ]
}